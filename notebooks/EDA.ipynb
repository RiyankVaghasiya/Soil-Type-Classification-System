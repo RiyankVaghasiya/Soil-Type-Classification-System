{
 "cells": [
  {
   "cell_type": "code",
   "execution_count": 3,
   "id": "431f466c",
   "metadata": {},
   "outputs": [
    {
     "name": "stdout",
     "output_type": "stream",
     "text": [
      "Requirement already satisfied: seaborn in e:\\machine learning project\\soil type classification system\\venv\\lib\\site-packages (0.13.2)\n",
      "Requirement already satisfied: numpy!=1.24.0,>=1.20 in e:\\machine learning project\\soil type classification system\\venv\\lib\\site-packages (from seaborn) (2.3.0)\n",
      "Requirement already satisfied: pandas>=1.2 in e:\\machine learning project\\soil type classification system\\venv\\lib\\site-packages (from seaborn) (2.3.0)\n",
      "Requirement already satisfied: matplotlib!=3.6.1,>=3.4 in e:\\machine learning project\\soil type classification system\\venv\\lib\\site-packages (from seaborn) (3.10.3)\n",
      "Requirement already satisfied: contourpy>=1.0.1 in e:\\machine learning project\\soil type classification system\\venv\\lib\\site-packages (from matplotlib!=3.6.1,>=3.4->seaborn) (1.3.2)\n",
      "Requirement already satisfied: cycler>=0.10 in e:\\machine learning project\\soil type classification system\\venv\\lib\\site-packages (from matplotlib!=3.6.1,>=3.4->seaborn) (0.12.1)\n",
      "Requirement already satisfied: fonttools>=4.22.0 in e:\\machine learning project\\soil type classification system\\venv\\lib\\site-packages (from matplotlib!=3.6.1,>=3.4->seaborn) (4.58.4)\n",
      "Requirement already satisfied: kiwisolver>=1.3.1 in e:\\machine learning project\\soil type classification system\\venv\\lib\\site-packages (from matplotlib!=3.6.1,>=3.4->seaborn) (1.4.8)\n",
      "Requirement already satisfied: packaging>=20.0 in e:\\machine learning project\\soil type classification system\\venv\\lib\\site-packages (from matplotlib!=3.6.1,>=3.4->seaborn) (25.0)\n",
      "Requirement already satisfied: pillow>=8 in e:\\machine learning project\\soil type classification system\\venv\\lib\\site-packages (from matplotlib!=3.6.1,>=3.4->seaborn) (11.2.1)\n",
      "Requirement already satisfied: pyparsing>=2.3.1 in e:\\machine learning project\\soil type classification system\\venv\\lib\\site-packages (from matplotlib!=3.6.1,>=3.4->seaborn) (3.2.3)\n",
      "Requirement already satisfied: python-dateutil>=2.7 in e:\\machine learning project\\soil type classification system\\venv\\lib\\site-packages (from matplotlib!=3.6.1,>=3.4->seaborn) (2.9.0.post0)\n",
      "Requirement already satisfied: pytz>=2020.1 in e:\\machine learning project\\soil type classification system\\venv\\lib\\site-packages (from pandas>=1.2->seaborn) (2025.2)\n",
      "Requirement already satisfied: tzdata>=2022.7 in e:\\machine learning project\\soil type classification system\\venv\\lib\\site-packages (from pandas>=1.2->seaborn) (2025.2)\n",
      "Requirement already satisfied: six>=1.5 in e:\\machine learning project\\soil type classification system\\venv\\lib\\site-packages (from python-dateutil>=2.7->matplotlib!=3.6.1,>=3.4->seaborn) (1.17.0)\n",
      "Note: you may need to restart the kernel to use updated packages.\n"
     ]
    }
   ],
   "source": [
    "%pip install seaborn"
   ]
  },
  {
   "cell_type": "code",
   "execution_count": 4,
   "id": "4bd655fd",
   "metadata": {},
   "outputs": [],
   "source": [
    "import os\n",
    "import pandas as pd\n",
    "import numpy as np\n",
    "import seaborn as sns\n",
    "import cv2\n",
    "from sklearn.preprocessing import LabelEncoder\n",
    "from sklearn.model_selection import train_test_split\n",
    "from sklearn.svm import SVC\n",
    "from sklearn.metrics import classification_report, confusion_matrix ,accuracy_score\n"
   ]
  },
  {
   "cell_type": "code",
   "execution_count": 5,
   "id": "357bf1f2",
   "metadata": {},
   "outputs": [],
   "source": [
    "def load_image_data(base_path='../data/raw/soil-types'):\n",
    "    data = []\n",
    "    for label in os.listdir(base_path):\n",
    "        label_path = os.path.join(base_path, label)\n",
    "        if os.path.isdir(label_path):\n",
    "            for file in os.listdir(label_path):\n",
    "                if file.endswith((\".jpg\", \".jpeg\", \".png\")):\n",
    "                    data.append({\n",
    "                        \"image_path\": os.path.join(label_path, file),\n",
    "                        \"label\": label\n",
    "                    })\n",
    "    df = pd.DataFrame(data)\n",
    "    return df"
   ]
  },
  {
   "cell_type": "code",
   "execution_count": 6,
   "id": "2f40a041",
   "metadata": {},
   "outputs": [],
   "source": [
    "df = load_image_data()"
   ]
  },
  {
   "cell_type": "code",
   "execution_count": 7,
   "id": "648ceb7c",
   "metadata": {},
   "outputs": [
    {
     "data": {
      "text/html": [
       "<div>\n",
       "<style scoped>\n",
       "    .dataframe tbody tr th:only-of-type {\n",
       "        vertical-align: middle;\n",
       "    }\n",
       "\n",
       "    .dataframe tbody tr th {\n",
       "        vertical-align: top;\n",
       "    }\n",
       "\n",
       "    .dataframe thead th {\n",
       "        text-align: right;\n",
       "    }\n",
       "</style>\n",
       "<table border=\"1\" class=\"dataframe\">\n",
       "  <thead>\n",
       "    <tr style=\"text-align: right;\">\n",
       "      <th></th>\n",
       "      <th>image_path</th>\n",
       "      <th>label</th>\n",
       "    </tr>\n",
       "  </thead>\n",
       "  <tbody>\n",
       "    <tr>\n",
       "      <th>0</th>\n",
       "      <td>../data/raw/soil-types\\Alluvial soil\\alluvial ...</td>\n",
       "      <td>Alluvial soil</td>\n",
       "    </tr>\n",
       "    <tr>\n",
       "      <th>1</th>\n",
       "      <td>../data/raw/soil-types\\Alluvial soil\\alluvial ...</td>\n",
       "      <td>Alluvial soil</td>\n",
       "    </tr>\n",
       "    <tr>\n",
       "      <th>2</th>\n",
       "      <td>../data/raw/soil-types\\Alluvial soil\\alluvial ...</td>\n",
       "      <td>Alluvial soil</td>\n",
       "    </tr>\n",
       "    <tr>\n",
       "      <th>3</th>\n",
       "      <td>../data/raw/soil-types\\Alluvial soil\\alluvial ...</td>\n",
       "      <td>Alluvial soil</td>\n",
       "    </tr>\n",
       "    <tr>\n",
       "      <th>4</th>\n",
       "      <td>../data/raw/soil-types\\Alluvial soil\\alluvial ...</td>\n",
       "      <td>Alluvial soil</td>\n",
       "    </tr>\n",
       "  </tbody>\n",
       "</table>\n",
       "</div>"
      ],
      "text/plain": [
       "                                          image_path          label\n",
       "0  ../data/raw/soil-types\\Alluvial soil\\alluvial ...  Alluvial soil\n",
       "1  ../data/raw/soil-types\\Alluvial soil\\alluvial ...  Alluvial soil\n",
       "2  ../data/raw/soil-types\\Alluvial soil\\alluvial ...  Alluvial soil\n",
       "3  ../data/raw/soil-types\\Alluvial soil\\alluvial ...  Alluvial soil\n",
       "4  ../data/raw/soil-types\\Alluvial soil\\alluvial ...  Alluvial soil"
      ]
     },
     "execution_count": 7,
     "metadata": {},
     "output_type": "execute_result"
    }
   ],
   "source": [
    "df.head()"
   ]
  },
  {
   "cell_type": "code",
   "execution_count": 8,
   "id": "9f2cbc8f",
   "metadata": {},
   "outputs": [
    {
     "data": {
      "text/plain": [
       "image_path    0\n",
       "label         0\n",
       "dtype: int64"
      ]
     },
     "execution_count": 8,
     "metadata": {},
     "output_type": "execute_result"
    }
   ],
   "source": [
    "df.isnull().sum()"
   ]
  },
  {
   "cell_type": "code",
   "execution_count": 9,
   "id": "2027ad74",
   "metadata": {},
   "outputs": [
    {
     "name": "stdout",
     "output_type": "stream",
     "text": [
      "<class 'pandas.core.frame.DataFrame'>\n",
      "RangeIndex: 144 entries, 0 to 143\n",
      "Data columns (total 2 columns):\n",
      " #   Column      Non-Null Count  Dtype \n",
      "---  ------      --------------  ----- \n",
      " 0   image_path  144 non-null    object\n",
      " 1   label       144 non-null    object\n",
      "dtypes: object(2)\n",
      "memory usage: 2.4+ KB\n"
     ]
    }
   ],
   "source": [
    "df.info()"
   ]
  },
  {
   "cell_type": "code",
   "execution_count": 10,
   "id": "f8e9768c",
   "metadata": {},
   "outputs": [
    {
     "data": {
      "text/plain": [
       "array(['Alluvial soil', 'Clayey soils', 'Laterite soil', 'Loamy soil',\n",
       "       'Sandy loam', 'Sandy soil'], dtype=object)"
      ]
     },
     "execution_count": 10,
     "metadata": {},
     "output_type": "execute_result"
    }
   ],
   "source": [
    "df['label'].unique()"
   ]
  },
  {
   "cell_type": "code",
   "execution_count": 11,
   "id": "265f626e",
   "metadata": {},
   "outputs": [],
   "source": [
    "# Image size to resize\n",
    "IMG_SIZE = 128  \n",
    "\n",
    "# Lists to hold image arrays and labels\n",
    "image_data = []\n",
    "labels = []\n",
    "\n",
    "for idx, row in df.iterrows():\n",
    "    img_path = row['image_path']\n",
    "    label = row['label']\n",
    "    \n",
    "    # Read image\n",
    "    image = cv2.imread(img_path)\n",
    "    if image is None:\n",
    "        continue  # skip broken or unreadable images\n",
    "\n",
    "    # Resize image\n",
    "    image = cv2.resize(image, (IMG_SIZE, IMG_SIZE))  # here IMG_SIZE shows width and height of image\n",
    "    \n",
    "    # Normalize image (convert to float and scale to [0,1])\n",
    "    image = image.astype('float32') / 255.0\n",
    "\n",
    "    # Append image and label\n",
    "    image_data.append(image)\n",
    "    labels.append(label)\n"
   ]
  },
  {
   "cell_type": "code",
   "execution_count": 12,
   "id": "2f5986e0",
   "metadata": {},
   "outputs": [],
   "source": [
    "def extract_color_histogram(image, bins=(16, 16, 16)):\n",
    "    # Convert image to HSV\n",
    "    hsv = cv2.cvtColor(image, cv2.COLOR_BGR2HSV)\n",
    "    \n",
    "    # Extract color histogram\n",
    "    hist = cv2.calcHist([hsv], [0, 1, 2], None, bins,\n",
    "                        [0, 180, 0, 256, 0, 256])\n",
    "    \n",
    "    # Normalize and flatten\n",
    "    cv2.normalize(hist, hist)\n",
    "    return hist.flatten()\n"
   ]
  },
  {
   "cell_type": "code",
   "execution_count": 13,
   "id": "f5b2ee29",
   "metadata": {},
   "outputs": [],
   "source": [
    "extracted_features = [extract_color_histogram(img) for img in image_data]\n",
    "X = np.array(extracted_features)"
   ]
  },
  {
   "cell_type": "code",
   "execution_count": 14,
   "id": "4df69278",
   "metadata": {},
   "outputs": [
    {
     "name": "stdout",
     "output_type": "stream",
     "text": [
      "y shape: (144,)\n",
      "Classes: ['Alluvial soil' 'Clayey soils' 'Laterite soil' 'Loamy soil' 'Sandy loam'\n",
      " 'Sandy soil']\n"
     ]
    }
   ],
   "source": [
    "# Encode labels to integers\n",
    "label_encoder = LabelEncoder()\n",
    "y = label_encoder.fit_transform(labels)  # shape: (num_samples,)\n",
    "print(\"y shape:\", y.shape)\n",
    "print(\"Classes:\", label_encoder.classes_)\n"
   ]
  },
  {
   "cell_type": "code",
   "execution_count": 15,
   "id": "8841909d",
   "metadata": {},
   "outputs": [],
   "source": [
    "X_train, X_test, y_train, y_test = train_test_split(X, y, test_size=0.2, random_state=42, stratify=y)"
   ]
  },
  {
   "cell_type": "code",
   "execution_count": 16,
   "id": "2dcdf947",
   "metadata": {},
   "outputs": [
    {
     "name": "stdout",
     "output_type": "stream",
     "text": [
      "Train shape: (115, 4096) (115,)\n",
      "Test shape: (29, 4096) (29,)\n"
     ]
    }
   ],
   "source": [
    "print(\"Train shape:\", X_train.shape, y_train.shape)\n",
    "print(\"Test shape:\", X_test.shape, y_test.shape)"
   ]
  },
  {
   "cell_type": "code",
   "execution_count": 27,
   "id": "fd1c8657",
   "metadata": {},
   "outputs": [],
   "source": [
    "model = SVC(kernel='rbf',C=10)  # Try 'rbf' or 'poly' too\n",
    "model.fit(X_train, y_train)\n",
    "\n",
    "y_pred = model.predict(X_test)"
   ]
  },
  {
   "cell_type": "code",
   "execution_count": 28,
   "id": "32e5480c",
   "metadata": {},
   "outputs": [
    {
     "name": "stdout",
     "output_type": "stream",
     "text": [
      "Classification Report:\n",
      "                precision    recall  f1-score   support\n",
      "\n",
      "Alluvial soil       0.50      0.50      0.50         2\n",
      " Clayey soils       0.00      0.00      0.00         6\n",
      "Laterite soil       0.57      0.67      0.62         6\n",
      "   Loamy soil       0.00      0.00      0.00         3\n",
      "   Sandy loam       0.50      0.60      0.55         5\n",
      "   Sandy soil       0.27      0.43      0.33         7\n",
      "\n",
      "     accuracy                           0.38        29\n",
      "    macro avg       0.31      0.37      0.33        29\n",
      " weighted avg       0.30      0.38      0.34        29\n",
      "\n",
      "Confusion Matrix:\n",
      " [[1 0 0 0 0 1]\n",
      " [0 0 0 0 1 5]\n",
      " [0 0 4 2 0 0]\n",
      " [0 0 3 0 0 0]\n",
      " [0 0 0 0 3 2]\n",
      " [1 0 0 1 2 3]]\n"
     ]
    },
    {
     "name": "stderr",
     "output_type": "stream",
     "text": [
      "e:\\machine learning project\\Soil Type Classification System\\venv\\Lib\\site-packages\\sklearn\\metrics\\_classification.py:1706: UndefinedMetricWarning: Precision is ill-defined and being set to 0.0 in labels with no predicted samples. Use `zero_division` parameter to control this behavior.\n",
      "  _warn_prf(average, modifier, f\"{metric.capitalize()} is\", result.shape[0])\n",
      "e:\\machine learning project\\Soil Type Classification System\\venv\\Lib\\site-packages\\sklearn\\metrics\\_classification.py:1706: UndefinedMetricWarning: Precision is ill-defined and being set to 0.0 in labels with no predicted samples. Use `zero_division` parameter to control this behavior.\n",
      "  _warn_prf(average, modifier, f\"{metric.capitalize()} is\", result.shape[0])\n",
      "e:\\machine learning project\\Soil Type Classification System\\venv\\Lib\\site-packages\\sklearn\\metrics\\_classification.py:1706: UndefinedMetricWarning: Precision is ill-defined and being set to 0.0 in labels with no predicted samples. Use `zero_division` parameter to control this behavior.\n",
      "  _warn_prf(average, modifier, f\"{metric.capitalize()} is\", result.shape[0])\n"
     ]
    }
   ],
   "source": [
    "print(\"Classification Report:\\n\", classification_report(y_test, y_pred, target_names=label_encoder.classes_))\n",
    "print(\"Confusion Matrix:\\n\", confusion_matrix(y_test, y_pred))\n"
   ]
  },
  {
   "cell_type": "code",
   "execution_count": 29,
   "id": "cc5d8b2f",
   "metadata": {},
   "outputs": [
    {
     "name": "stdout",
     "output_type": "stream",
     "text": [
      "0.3793103448275862\n"
     ]
    }
   ],
   "source": [
    "print(accuracy_score(y_test,y_pred))"
   ]
  },
  {
   "cell_type": "code",
   "execution_count": 25,
   "id": "a170a913",
   "metadata": {},
   "outputs": [],
   "source": [
    "from sklearn.metrics import r2_score"
   ]
  },
  {
   "cell_type": "code",
   "execution_count": 26,
   "id": "9f8cb554",
   "metadata": {},
   "outputs": [
    {
     "name": "stdout",
     "output_type": "stream",
     "text": [
      "-0.8967297762478488\n"
     ]
    }
   ],
   "source": [
    "print(r2_score(y_test,y_pred))"
   ]
  },
  {
   "cell_type": "code",
   "execution_count": null,
   "id": "f9037d93",
   "metadata": {},
   "outputs": [],
   "source": []
  }
 ],
 "metadata": {
  "kernelspec": {
   "display_name": "venv",
   "language": "python",
   "name": "python3"
  },
  "language_info": {
   "codemirror_mode": {
    "name": "ipython",
    "version": 3
   },
   "file_extension": ".py",
   "mimetype": "text/x-python",
   "name": "python",
   "nbconvert_exporter": "python",
   "pygments_lexer": "ipython3",
   "version": "3.12.3"
  }
 },
 "nbformat": 4,
 "nbformat_minor": 5
}
